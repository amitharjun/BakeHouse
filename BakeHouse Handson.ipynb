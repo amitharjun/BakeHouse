{
 "cells": [
  {
   "cell_type": "code",
   "execution_count": 0,
   "metadata": {
    "application/vnd.databricks.v1+cell": {
     "cellMetadata": {
      "byteLimit": 2048000,
      "rowLimit": 10000
     },
     "collapsed": true,
     "inputWidgets": {},
     "nuid": "f3732dd3-05c7-44d7-a2e2-2ec3a20207f0",
     "showTitle": false,
     "tableResultSettingsMap": {},
     "title": ""
    }
   },
   "outputs": [
    {
     "output_type": "display_data",
     "data": {
      "text/html": [
       "<style scoped>\n",
       "  .table-result-container {\n",
       "    max-height: 300px;\n",
       "    overflow: auto;\n",
       "  }\n",
       "  table, th, td {\n",
       "    border: 1px solid black;\n",
       "    border-collapse: collapse;\n",
       "  }\n",
       "  th, td {\n",
       "    padding: 5px;\n",
       "  }\n",
       "  th {\n",
       "    text-align: left;\n",
       "  }\n",
       "</style><div class='table-result-container'><table class='table-result'><thead style='background-color: white'><tr><th>path</th><th>name</th><th>size</th><th>modificationTime</th></tr></thead><tbody><tr><td>dbfs:/FileStore/Bakehouse_Dataset.zip</td><td>Bakehouse_Dataset.zip</td><td>153373</td><td>1748502614000</td></tr><tr><td>dbfs:/FileStore/media_customer_reviews.parquet</td><td>media_customer_reviews.parquet</td><td>46004</td><td>1748502682000</td></tr><tr><td>dbfs:/FileStore/media_gold_reviews_chunked.parquet</td><td>media_gold_reviews_chunked.parquet</td><td>23557</td><td>1748502681000</td></tr><tr><td>dbfs:/FileStore/sales_customers.parquet</td><td>sales_customers.parquet</td><td>28493</td><td>1748502682000</td></tr><tr><td>dbfs:/FileStore/sales_franchises.parquet</td><td>sales_franchises.parquet</td><td>5905</td><td>1748502682000</td></tr><tr><td>dbfs:/FileStore/sales_suppliers.parquet</td><td>sales_suppliers.parquet</td><td>4591</td><td>1748502682000</td></tr><tr><td>dbfs:/FileStore/sales_transactions.parquet</td><td>sales_transactions.parquet</td><td>86578</td><td>1748502683000</td></tr><tr><td>dbfs:/FileStore/tables/</td><td>tables/</td><td>0</td><td>0</td></tr></tbody></table></div>"
      ]
     },
     "metadata": {
      "application/vnd.databricks.v1+output": {
       "addedWidgets": {},
       "aggData": [],
       "aggError": "",
       "aggOverflow": false,
       "aggSchema": [],
       "aggSeriesLimitReached": false,
       "aggType": "",
       "arguments": {},
       "columnCustomDisplayInfos": {},
       "data": [
        [
         "dbfs:/FileStore/Bakehouse_Dataset.zip",
         "Bakehouse_Dataset.zip",
         153373,
         1748502614000
        ],
        [
         "dbfs:/FileStore/media_customer_reviews.parquet",
         "media_customer_reviews.parquet",
         46004,
         1748502682000
        ],
        [
         "dbfs:/FileStore/media_gold_reviews_chunked.parquet",
         "media_gold_reviews_chunked.parquet",
         23557,
         1748502681000
        ],
        [
         "dbfs:/FileStore/sales_customers.parquet",
         "sales_customers.parquet",
         28493,
         1748502682000
        ],
        [
         "dbfs:/FileStore/sales_franchises.parquet",
         "sales_franchises.parquet",
         5905,
         1748502682000
        ],
        [
         "dbfs:/FileStore/sales_suppliers.parquet",
         "sales_suppliers.parquet",
         4591,
         1748502682000
        ],
        [
         "dbfs:/FileStore/sales_transactions.parquet",
         "sales_transactions.parquet",
         86578,
         1748502683000
        ],
        [
         "dbfs:/FileStore/tables/",
         "tables/",
         0,
         0
        ]
       ],
       "datasetInfos": [],
       "dbfsResultPath": null,
       "isJsonSchema": true,
       "metadata": {
        "isDbfsCommandResult": false
       },
       "overflow": false,
       "plotOptions": {
        "customPlotOptions": {},
        "displayType": "table",
        "pivotAggregation": null,
        "pivotColumns": null,
        "xColumns": null,
        "yColumns": null
       },
       "removedWidgets": [],
       "schema": [
        {
         "metadata": "{}",
         "name": "path",
         "type": "\"string\""
        },
        {
         "metadata": "{}",
         "name": "name",
         "type": "\"string\""
        },
        {
         "metadata": "{}",
         "name": "size",
         "type": "\"long\""
        },
        {
         "metadata": "{}",
         "name": "modificationTime",
         "type": "\"long\""
        }
       ],
       "type": "table"
      }
     },
     "output_type": "display_data"
    }
   ],
   "source": [
    "%fs ls dbfs:/FileStore/\n"
   ]
  },
  {
   "cell_type": "code",
   "execution_count": 0,
   "metadata": {
    "application/vnd.databricks.v1+cell": {
     "cellMetadata": {
      "byteLimit": 2048000,
      "rowLimit": 10000
     },
     "inputWidgets": {},
     "nuid": "f03bd937-e0bb-40e0-b5b6-9fabca573943",
     "showTitle": false,
     "tableResultSettingsMap": {},
     "title": ""
    }
   },
   "outputs": [],
   "source": [
    "#Read the parquet files from DBFS storage and create bronze table for each individual file using append only operation.\n",
    "\n",
    "file_format=\"parquet\"\n",
    "\n",
    "options = {\n",
    "    \"header\": \"true\",\n",
    "    \"mode\": \"PERMISSIVE\",\n",
    "}\n",
    "\n",
    "bronzedf_media_customer_reviews = spark.read.format(file_format).options(**options).load(\"dbfs:/FileStore/media_customer_reviews.parquet\")\n",
    "\n",
    "bronzedf_media_customer_reviews.printSchema()\n",
    "display(bronzedf_media_customer_reviews)\n",
    "\n",
    "bronzedf_media_customer_reviews.write.option(\"mode\",\"append\").saveAsTable(\"bronze_media_customer_reviews\")\n",
    "\n",
    "\n",
    "\n",
    "bronzedf_media_gold_reviews_chunked = spark.read.format(file_format).options(**options).load(\"dbfs:/FileStore/media_gold_reviews_chunked.parquet\")\n",
    "\n",
    "bronzedf_media_gold_reviews_chunked.printSchema()\n",
    "display(bronzedf_media_gold_reviews_chunked)\n",
    "\n",
    "bronzedf_media_gold_reviews_chunked.write.option(\"mode\",\"append\").saveAsTable(\"bronze_media_gold_reviews_chunked\")\n",
    "\n",
    "\n",
    "\n",
    "bronzedf_sales_customers = spark.read.format(file_format).options(**options).load(\"dbfs:/FileStore/sales_customers.parquet\")\n",
    "\n",
    "bronzedf_sales_customers.printSchema()\n",
    "display(bronzedf_sales_customers)\n",
    "\n",
    "bronzedf_sales_customers.write.option(\"mode\",\"append\").saveAsTable(\"bronze_sales_customers\")\n",
    "\n",
    "\n",
    "\n",
    "bronzedf_sales_franchises = spark.read.format(file_format).options(**options).load(\"dbfs:/FileStore/sales_franchises.parquet\")\n",
    "\n",
    "bronzedf_sales_franchises.printSchema()\n",
    "display(bronzedf_sales_franchises)\n",
    "\n",
    "bronzedf_sales_franchises.write.option(\"mode\",\"append\").saveAsTable(\"bronze_sales_franchises\")\n",
    "\n",
    "\n",
    "bronzedf_sales_suppliers = spark.read.format(file_format).options(**options).load(\"dbfs:/FileStore/sales_suppliers.parquet\")\n",
    "\n",
    "bronzedf_sales_suppliers.printSchema()\n",
    "display(bronzedf_sales_suppliers)\n",
    "\n",
    "bronzedf_sales_suppliers.write.option(\"mode\",\"append\").saveAsTable(\"bronze_sales_suppliers\")\n",
    "\n",
    "bronzedf_sales_transactions = spark.read.format(file_format).options(**options).load(\"dbfs:/FileStore/sales_transactions.parquet\")\n",
    "\n",
    "bronzedf_sales_transactions.printSchema()\n",
    "display(bronzedf_sales_transactions)\n",
    "\n",
    "bronzedf_sales_transactions.write.option(\"mode\",\"append\").saveAsTable(\"bronze_sales_transactions\")\n",
    "\n",
    "#df= spark.read.parquet(\"dbfs:/FileStore/media_customer_reviews.parquet\")\n",
    "#.options(header=\"true\",path=\"dbfs:/FileStore/media_customer_reviews.parquet\")\n",
    "\n",
    "\n"
   ]
  },
  {
   "cell_type": "code",
   "execution_count": 0,
   "metadata": {
    "application/vnd.databricks.v1+cell": {
     "cellMetadata": {
      "byteLimit": 2048000,
      "rowLimit": 10000
     },
     "inputWidgets": {},
     "nuid": "d5778ca9-f846-4905-92c3-0f1169b76fa9",
     "showTitle": false,
     "tableResultSettingsMap": {},
     "title": ""
    }
   },
   "outputs": [],
   "source": [
    "#Create silver layer table that uses SCD1 type. Each bronze table will be mapped to an individual silver table.\n",
    "\n",
    "'''bronze_media_customer_reviews\n",
    "bronze_media_gold_reviews_chunked\n",
    "bronze_sales_customers\n",
    "bronze_sales_franchises\n",
    "bronze_sales_suppliers\n",
    "bronze_sales_transactions'''\n",
    "\n",
    "\n",
    "silver_bronze_media_customer_reviews = spark.read.table(\"bronze_media_customer_reviews\")\n",
    "silver_bronze_media_customer_reviews.write.mode(\"overwrite\").saveAsTable(\"silver_bronze_media_customer_reviews\")\n",
    "\n",
    "silver_media_gold_reviews_chunked = spark.read.table(\"bronze_media_gold_reviews_chunked\")\n",
    "silver_media_gold_reviews_chunked.write.mode(\"overwrite\").saveAsTable(\"silver_media_gold_reviews_chunked\")\n",
    "\n",
    "silver_sales_customers = spark.read.table(\"bronze_sales_customers\")\n",
    "silver_sales_customers.write.mode(\"overwrite\").saveAsTable(\"silver_sales_customers\")\n",
    "\n",
    "silver_sales_franchises = spark.read.table(\"bronze_sales_franchises\")\n",
    "silver_sales_franchises.write.mode(\"overwrite\").saveAsTable(\"silver_sales_franchises\")\n",
    "\n",
    "silver_sales_suppliers = spark.read.table(\"bronze_sales_suppliers\")\n",
    "silver_sales_suppliers.write.mode(\"overwrite\").saveAsTable(\"silver_sales_suppliers\")\n",
    "\n",
    "silver_sales_transactions = spark.read.table(\"bronze_sales_transactions\")\n",
    "silver_sales_transactions.write.mode(\"overwrite\").saveAsTable(\"silver_sales_transactions\")\n"
   ]
  },
  {
   "cell_type": "code",
   "execution_count": 0,
   "metadata": {
    "application/vnd.databricks.v1+cell": {
     "cellMetadata": {
      "byteLimit": 2048000,
      "implicitDf": true,
      "rowLimit": 10000
     },
     "inputWidgets": {},
     "nuid": "5e7f4b87-f41a-4c98-83f1-d6fe28611ebf",
     "showTitle": false,
     "tableResultSettingsMap": {},
     "title": ""
    }
   },
   "outputs": [
    {
     "output_type": "display_data",
     "data": {
      "text/html": [
       "<style scoped>\n",
       "  .table-result-container {\n",
       "    max-height: 300px;\n",
       "    overflow: auto;\n",
       "  }\n",
       "  table, th, td {\n",
       "    border: 1px solid black;\n",
       "    border-collapse: collapse;\n",
       "  }\n",
       "  th, td {\n",
       "    padding: 5px;\n",
       "  }\n",
       "  th {\n",
       "    text-align: left;\n",
       "  }\n",
       "</style><div class='table-result-container'><table class='table-result'><thead style='background-color: white'><tr><th>database</th><th>tableName</th><th>isTemporary</th></tr></thead><tbody><tr><td>default</td><td>bronze_media_customer_reviews</td><td>false</td></tr><tr><td>default</td><td>bronze_media_gold_reviews_chunked</td><td>false</td></tr><tr><td>default</td><td>bronze_sales_customers</td><td>false</td></tr><tr><td>default</td><td>bronze_sales_franchises</td><td>false</td></tr><tr><td>default</td><td>bronze_sales_suppliers</td><td>false</td></tr><tr><td>default</td><td>bronze_sales_transactions</td><td>false</td></tr><tr><td>default</td><td>silver_bronze_media_customer_reviews</td><td>false</td></tr><tr><td>default</td><td>silver_media_gold_reviews_chunked</td><td>false</td></tr><tr><td>default</td><td>silver_sales_customers</td><td>false</td></tr><tr><td>default</td><td>silver_sales_franchises</td><td>false</td></tr><tr><td>default</td><td>silver_sales_suppliers</td><td>false</td></tr><tr><td>default</td><td>silver_sales_transactions</td><td>false</td></tr><tr><td></td><td>_sqldf</td><td>true</td></tr></tbody></table></div>"
      ]
     },
     "metadata": {
      "application/vnd.databricks.v1+output": {
       "addedWidgets": {},
       "aggData": [],
       "aggError": "",
       "aggOverflow": false,
       "aggSchema": [],
       "aggSeriesLimitReached": false,
       "aggType": "",
       "arguments": {},
       "columnCustomDisplayInfos": {},
       "data": [
        [
         "default",
         "bronze_media_customer_reviews",
         false
        ],
        [
         "default",
         "bronze_media_gold_reviews_chunked",
         false
        ],
        [
         "default",
         "bronze_sales_customers",
         false
        ],
        [
         "default",
         "bronze_sales_franchises",
         false
        ],
        [
         "default",
         "bronze_sales_suppliers",
         false
        ],
        [
         "default",
         "bronze_sales_transactions",
         false
        ],
        [
         "default",
         "silver_bronze_media_customer_reviews",
         false
        ],
        [
         "default",
         "silver_media_gold_reviews_chunked",
         false
        ],
        [
         "default",
         "silver_sales_customers",
         false
        ],
        [
         "default",
         "silver_sales_franchises",
         false
        ],
        [
         "default",
         "silver_sales_suppliers",
         false
        ],
        [
         "default",
         "silver_sales_transactions",
         false
        ],
        [
         "",
         "_sqldf",
         true
        ]
       ],
       "datasetInfos": [],
       "dbfsResultPath": null,
       "isJsonSchema": true,
       "metadata": {
        "createTempViewForImplicitDf": true,
        "dataframeName": "_sqldf",
        "executionCount": 34
       },
       "overflow": false,
       "plotOptions": {
        "customPlotOptions": {},
        "displayType": "table",
        "pivotAggregation": null,
        "pivotColumns": null,
        "xColumns": null,
        "yColumns": null
       },
       "removedWidgets": [],
       "schema": [
        {
         "metadata": "{}",
         "name": "database",
         "type": "\"string\""
        },
        {
         "metadata": "{}",
         "name": "tableName",
         "type": "\"string\""
        },
        {
         "metadata": "{}",
         "name": "isTemporary",
         "type": "\"boolean\""
        }
       ],
       "type": "table"
      }
     },
     "output_type": "display_data"
    }
   ],
   "source": [
    "%sql\n",
    "\n",
    "show tables;"
   ]
  },
  {
   "cell_type": "code",
   "execution_count": 0,
   "metadata": {
    "application/vnd.databricks.v1+cell": {
     "cellMetadata": {},
     "inputWidgets": {},
     "nuid": "c1e0f2d7-7f70-47e4-92b1-55ee023d3b3c",
     "showTitle": false,
     "tableResultSettingsMap": {},
     "title": ""
    }
   },
   "outputs": [],
   "source": [
    "\"\"\"\n",
    "Create gold layer tables to create analytical queries based on the below requirements. A total of 3 gold tables would be needed.\n",
    "Get the most sold products to identify the top-selling items.\n",
    "Find which suppliers provide ingredients to the most franchises.\n",
    "Get total sales per month.\n",
    "\"\"\"\n",
    "\n",
    "'''\n",
    "silver_bronze_media_customer_reviews\n",
    "silver_media_gold_reviews_chunked\n",
    "silver_sales_customers\n",
    "silver_sales_franchises\n",
    "silver_sales_suppliers\n",
    "silver_sales_transactions'''"
   ]
  },
  {
   "cell_type": "code",
   "execution_count": 0,
   "metadata": {
    "application/vnd.databricks.v1+cell": {
     "cellMetadata": {
      "byteLimit": 2048000,
      "implicitDf": true,
      "rowLimit": 10000
     },
     "inputWidgets": {},
     "nuid": "1c15bc8f-7872-4aee-8fc1-fee79b2fe4ea",
     "showTitle": false,
     "tableResultSettingsMap": {},
     "title": ""
    }
   },
   "outputs": [
    {
     "output_type": "display_data",
     "data": {
      "text/html": [
       "<style scoped>\n",
       "  .table-result-container {\n",
       "    max-height: 300px;\n",
       "    overflow: auto;\n",
       "  }\n",
       "  table, th, td {\n",
       "    border: 1px solid black;\n",
       "    border-collapse: collapse;\n",
       "  }\n",
       "  th, td {\n",
       "    padding: 5px;\n",
       "  }\n",
       "  th {\n",
       "    text-align: left;\n",
       "  }\n",
       "</style><div class='table-result-container'><table class='table-result'><thead style='background-color: white'><tr><th>product</th><th>sale_count</th></tr></thead><tbody><tr><td>Golden Gate Ginger</td><td>586</td></tr></tbody></table></div>"
      ]
     },
     "metadata": {
      "application/vnd.databricks.v1+output": {
       "addedWidgets": {},
       "aggData": [],
       "aggError": "",
       "aggOverflow": false,
       "aggSchema": [],
       "aggSeriesLimitReached": false,
       "aggType": "",
       "arguments": {},
       "columnCustomDisplayInfos": {},
       "data": [
        [
         "Golden Gate Ginger",
         586
        ]
       ],
       "datasetInfos": [],
       "dbfsResultPath": null,
       "isJsonSchema": true,
       "metadata": {
        "createTempViewForImplicitDf": true,
        "dataframeName": "_sqldf",
        "executionCount": 62
       },
       "overflow": false,
       "plotOptions": {
        "customPlotOptions": {},
        "displayType": "table",
        "pivotAggregation": null,
        "pivotColumns": null,
        "xColumns": null,
        "yColumns": null
       },
       "removedWidgets": [],
       "schema": [
        {
         "metadata": "{}",
         "name": "product",
         "type": "\"string\""
        },
        {
         "metadata": "{}",
         "name": "sale_count",
         "type": "\"long\""
        }
       ],
       "type": "table"
      }
     },
     "output_type": "display_data"
    }
   ],
   "source": [
    "%sql\n",
    "--Get the most sold products to identify the top-selling items.\n",
    "\n",
    "--display(silver_sales_transactions)\n",
    "\n",
    "SELECT product, count(*) as sale_count\n",
    "FROM silver_sales_transactions\n",
    "GROUP BY product\n",
    "ORDER BY sale_count DESC LIMIT 1;\n"
   ]
  },
  {
   "cell_type": "code",
   "execution_count": 0,
   "metadata": {
    "application/vnd.databricks.v1+cell": {
     "cellMetadata": {
      "byteLimit": 2048000,
      "rowLimit": 10000
     },
     "inputWidgets": {},
     "nuid": "1ed17f4e-28ce-415e-890d-557434f20747",
     "showTitle": false,
     "tableResultSettingsMap": {},
     "title": ""
    }
   },
   "outputs": [
    {
     "output_type": "display_data",
     "data": {
      "text/html": [
       "<style scoped>\n",
       "  .table-result-container {\n",
       "    max-height: 300px;\n",
       "    overflow: auto;\n",
       "  }\n",
       "  table, th, td {\n",
       "    border: 1px solid black;\n",
       "    border-collapse: collapse;\n",
       "  }\n",
       "  th, td {\n",
       "    padding: 5px;\n",
       "  }\n",
       "  th {\n",
       "    text-align: left;\n",
       "  }\n",
       "</style><div class='table-result-container'><table class='table-result'><thead style='background-color: white'><tr><th>product</th><th>sale_count</th></tr></thead><tbody><tr><td>Golden Gate Ginger</td><td>586</td></tr></tbody></table></div>"
      ]
     },
     "metadata": {
      "application/vnd.databricks.v1+output": {
       "addedWidgets": {},
       "aggData": [],
       "aggError": "",
       "aggOverflow": false,
       "aggSchema": [],
       "aggSeriesLimitReached": false,
       "aggType": "",
       "arguments": {},
       "columnCustomDisplayInfos": {},
       "data": [
        [
         "Golden Gate Ginger",
         586
        ]
       ],
       "datasetInfos": [],
       "dbfsResultPath": null,
       "isJsonSchema": true,
       "metadata": {},
       "overflow": false,
       "plotOptions": {
        "customPlotOptions": {},
        "displayType": "table",
        "pivotAggregation": null,
        "pivotColumns": null,
        "xColumns": null,
        "yColumns": null
       },
       "removedWidgets": [],
       "schema": [
        {
         "metadata": "{}",
         "name": "product",
         "type": "\"string\""
        },
        {
         "metadata": "{}",
         "name": "sale_count",
         "type": "\"long\""
        }
       ],
       "type": "table"
      }
     },
     "output_type": "display_data"
    },
    {
     "output_type": "display_data",
     "data": {
      "text/html": [
       "<style scoped>\n",
       "  .table-result-container {\n",
       "    max-height: 300px;\n",
       "    overflow: auto;\n",
       "  }\n",
       "  table, th, td {\n",
       "    border: 1px solid black;\n",
       "    border-collapse: collapse;\n",
       "  }\n",
       "  th, td {\n",
       "    padding: 5px;\n",
       "  }\n",
       "  th {\n",
       "    text-align: left;\n",
       "  }\n",
       "</style><div class='table-result-container'><table class='table-result'><thead style='background-color: white'><tr><th>product</th><th>sale_count</th></tr></thead><tbody><tr><td>Golden Gate Ginger</td><td>586</td></tr></tbody></table></div>"
      ]
     },
     "metadata": {
      "application/vnd.databricks.v1+output": {
       "addedWidgets": {},
       "aggData": [],
       "aggError": "",
       "aggOverflow": false,
       "aggSchema": [],
       "aggSeriesLimitReached": false,
       "aggType": "",
       "arguments": {},
       "columnCustomDisplayInfos": {},
       "data": [
        [
         "Golden Gate Ginger",
         586
        ]
       ],
       "datasetInfos": [],
       "dbfsResultPath": null,
       "isJsonSchema": true,
       "metadata": {},
       "overflow": false,
       "plotOptions": {
        "customPlotOptions": {},
        "displayType": "table",
        "pivotAggregation": null,
        "pivotColumns": null,
        "xColumns": null,
        "yColumns": null
       },
       "removedWidgets": [],
       "schema": [
        {
         "metadata": "{}",
         "name": "product",
         "type": "\"string\""
        },
        {
         "metadata": "{}",
         "name": "sale_count",
         "type": "\"long\""
        }
       ],
       "type": "table"
      }
     },
     "output_type": "display_data"
    }
   ],
   "source": [
    "most_sold_products_query=\"\"\"\n",
    "SELECT product, count(*) as sale_count\n",
    "FROM silver_sales_transactions\n",
    "GROUP BY product\n",
    "ORDER BY sale_count DESC LIMIT 1\n",
    "\"\"\"\n",
    "\n",
    "gold_dfmost_sold_products = spark.sql(most_sold_products_query)\n",
    "display(gold_dfmost_sold_products)\n",
    "\n",
    "\n",
    "gold_dfmost_sold_products.write.mode(\"overwrite\").saveAsTable(\"gold_most_sold_products\")\n",
    "\n",
    "\n",
    "display(spark.sql(\"select * from gold_most_sold_products\"))\n"
   ]
  },
  {
   "cell_type": "code",
   "execution_count": 0,
   "metadata": {
    "application/vnd.databricks.v1+cell": {
     "cellMetadata": {
      "byteLimit": 2048000,
      "rowLimit": 10000
     },
     "inputWidgets": {},
     "nuid": "d0360e40-2bd4-46bc-be36-27e08f6450f3",
     "showTitle": false,
     "tableResultSettingsMap": {},
     "title": ""
    }
   },
   "outputs": [
    {
     "output_type": "display_data",
     "data": {
      "text/html": [
       "<style scoped>\n",
       "  .table-result-container {\n",
       "    max-height: 300px;\n",
       "    overflow: auto;\n",
       "  }\n",
       "  table, th, td {\n",
       "    border: 1px solid black;\n",
       "    border-collapse: collapse;\n",
       "  }\n",
       "  th, td {\n",
       "    padding: 5px;\n",
       "  }\n",
       "  th {\n",
       "    text-align: left;\n",
       "  }\n",
       "</style><div class='table-result-container'><table class='table-result'><thead style='background-color: white'><tr><th>supplierID</th><th>franchises_count</th></tr></thead><tbody><tr><td>4000022</td><td>1</td></tr><tr><td>4000021</td><td>1</td></tr><tr><td>4000005</td><td>1</td></tr><tr><td>4000003</td><td>1</td></tr><tr><td>4000004</td><td>1</td></tr><tr><td>4000009</td><td>1</td></tr><tr><td>4000015</td><td>1</td></tr><tr><td>4000019</td><td>1</td></tr><tr><td>4000013</td><td>1</td></tr><tr><td>4000026</td><td>1</td></tr><tr><td>4000018</td><td>1</td></tr><tr><td>4000001</td><td>1</td></tr><tr><td>4000000</td><td>1</td></tr><tr><td>4000007</td><td>1</td></tr><tr><td>4000008</td><td>1</td></tr><tr><td>4000025</td><td>1</td></tr><tr><td>4000020</td><td>1</td></tr><tr><td>4000024</td><td>1</td></tr><tr><td>4000017</td><td>1</td></tr><tr><td>4000010</td><td>1</td></tr><tr><td>4000002</td><td>1</td></tr><tr><td>4000012</td><td>1</td></tr><tr><td>4000023</td><td>1</td></tr><tr><td>4000014</td><td>1</td></tr><tr><td>4000016</td><td>1</td></tr><tr><td>4000006</td><td>1</td></tr><tr><td>4000011</td><td>1</td></tr></tbody></table></div>"
      ]
     },
     "metadata": {
      "application/vnd.databricks.v1+output": {
       "addedWidgets": {},
       "aggData": [],
       "aggError": "",
       "aggOverflow": false,
       "aggSchema": [],
       "aggSeriesLimitReached": false,
       "aggType": "",
       "arguments": {},
       "columnCustomDisplayInfos": {},
       "data": [
        [
         4000022,
         1
        ],
        [
         4000021,
         1
        ],
        [
         4000005,
         1
        ],
        [
         4000003,
         1
        ],
        [
         4000004,
         1
        ],
        [
         4000009,
         1
        ],
        [
         4000015,
         1
        ],
        [
         4000019,
         1
        ],
        [
         4000013,
         1
        ],
        [
         4000026,
         1
        ],
        [
         4000018,
         1
        ],
        [
         4000001,
         1
        ],
        [
         4000000,
         1
        ],
        [
         4000007,
         1
        ],
        [
         4000008,
         1
        ],
        [
         4000025,
         1
        ],
        [
         4000020,
         1
        ],
        [
         4000024,
         1
        ],
        [
         4000017,
         1
        ],
        [
         4000010,
         1
        ],
        [
         4000002,
         1
        ],
        [
         4000012,
         1
        ],
        [
         4000023,
         1
        ],
        [
         4000014,
         1
        ],
        [
         4000016,
         1
        ],
        [
         4000006,
         1
        ],
        [
         4000011,
         1
        ]
       ],
       "datasetInfos": [],
       "dbfsResultPath": null,
       "isJsonSchema": true,
       "metadata": {},
       "overflow": false,
       "plotOptions": {
        "customPlotOptions": {},
        "displayType": "table",
        "pivotAggregation": null,
        "pivotColumns": null,
        "xColumns": null,
        "yColumns": null
       },
       "removedWidgets": [],
       "schema": [
        {
         "metadata": "{}",
         "name": "supplierID",
         "type": "\"long\""
        },
        {
         "metadata": "{}",
         "name": "franchises_count",
         "type": "\"long\""
        }
       ],
       "type": "table"
      }
     },
     "output_type": "display_data"
    },
    {
     "output_type": "display_data",
     "data": {
      "text/html": [
       "<style scoped>\n",
       "  .table-result-container {\n",
       "    max-height: 300px;\n",
       "    overflow: auto;\n",
       "  }\n",
       "  table, th, td {\n",
       "    border: 1px solid black;\n",
       "    border-collapse: collapse;\n",
       "  }\n",
       "  th, td {\n",
       "    padding: 5px;\n",
       "  }\n",
       "  th {\n",
       "    text-align: left;\n",
       "  }\n",
       "</style><div class='table-result-container'><table class='table-result'><thead style='background-color: white'><tr><th>supplierID</th><th>franchises_count</th></tr></thead><tbody><tr><td>4000022</td><td>1</td></tr><tr><td>4000021</td><td>1</td></tr><tr><td>4000005</td><td>1</td></tr><tr><td>4000003</td><td>1</td></tr><tr><td>4000004</td><td>1</td></tr><tr><td>4000009</td><td>1</td></tr><tr><td>4000015</td><td>1</td></tr><tr><td>4000019</td><td>1</td></tr><tr><td>4000013</td><td>1</td></tr><tr><td>4000026</td><td>1</td></tr><tr><td>4000018</td><td>1</td></tr><tr><td>4000001</td><td>1</td></tr><tr><td>4000000</td><td>1</td></tr><tr><td>4000007</td><td>1</td></tr><tr><td>4000008</td><td>1</td></tr><tr><td>4000025</td><td>1</td></tr><tr><td>4000020</td><td>1</td></tr><tr><td>4000024</td><td>1</td></tr><tr><td>4000017</td><td>1</td></tr><tr><td>4000010</td><td>1</td></tr><tr><td>4000002</td><td>1</td></tr><tr><td>4000012</td><td>1</td></tr><tr><td>4000023</td><td>1</td></tr><tr><td>4000014</td><td>1</td></tr><tr><td>4000016</td><td>1</td></tr><tr><td>4000006</td><td>1</td></tr><tr><td>4000011</td><td>1</td></tr></tbody></table></div>"
      ]
     },
     "metadata": {
      "application/vnd.databricks.v1+output": {
       "addedWidgets": {},
       "aggData": [],
       "aggError": "",
       "aggOverflow": false,
       "aggSchema": [],
       "aggSeriesLimitReached": false,
       "aggType": "",
       "arguments": {},
       "columnCustomDisplayInfos": {},
       "data": [
        [
         4000022,
         1
        ],
        [
         4000021,
         1
        ],
        [
         4000005,
         1
        ],
        [
         4000003,
         1
        ],
        [
         4000004,
         1
        ],
        [
         4000009,
         1
        ],
        [
         4000015,
         1
        ],
        [
         4000019,
         1
        ],
        [
         4000013,
         1
        ],
        [
         4000026,
         1
        ],
        [
         4000018,
         1
        ],
        [
         4000001,
         1
        ],
        [
         4000000,
         1
        ],
        [
         4000007,
         1
        ],
        [
         4000008,
         1
        ],
        [
         4000025,
         1
        ],
        [
         4000020,
         1
        ],
        [
         4000024,
         1
        ],
        [
         4000017,
         1
        ],
        [
         4000010,
         1
        ],
        [
         4000002,
         1
        ],
        [
         4000012,
         1
        ],
        [
         4000023,
         1
        ],
        [
         4000014,
         1
        ],
        [
         4000016,
         1
        ],
        [
         4000006,
         1
        ],
        [
         4000011,
         1
        ]
       ],
       "datasetInfos": [],
       "dbfsResultPath": null,
       "isJsonSchema": true,
       "metadata": {},
       "overflow": false,
       "plotOptions": {
        "customPlotOptions": {},
        "displayType": "table",
        "pivotAggregation": null,
        "pivotColumns": null,
        "xColumns": null,
        "yColumns": null
       },
       "removedWidgets": [],
       "schema": [
        {
         "metadata": "{}",
         "name": "supplierID",
         "type": "\"long\""
        },
        {
         "metadata": "{}",
         "name": "franchises_count",
         "type": "\"long\""
        }
       ],
       "type": "table"
      }
     },
     "output_type": "display_data"
    }
   ],
   "source": [
    "#Find which suppliers provide ingredients to the most franchises.\n",
    "\n",
    "suppliers_ingredients_most_franchises_query=\"\"\"SELECT supplierID, count(*) as franchises_count\n",
    "from silver_sales_suppliers\n",
    "group by supplierID\n",
    "order by franchises_count desc\"\"\"\n",
    "\n",
    "golddf_suppliers_ingredients_most_franchises = spark.sql(suppliers_ingredients_most_franchises_query);\n",
    "\n",
    "display(golddf_suppliers_ingredients_most_franchises)\n",
    "\n",
    "golddf_suppliers_ingredients_most_franchises.write.mode(\"overwrite\").saveAsTable(\"gold_suppliers_ingredients_most_franchises\")\n",
    "\n",
    "display(spark.sql(\"select * from gold_suppliers_ingredients_most_franchises\"))\n",
    "\n"
   ]
  },
  {
   "cell_type": "code",
   "execution_count": 0,
   "metadata": {
    "application/vnd.databricks.v1+cell": {
     "cellMetadata": {
      "byteLimit": 2048000,
      "rowLimit": 10000
     },
     "inputWidgets": {},
     "nuid": "a06c4988-708c-4329-a6e8-8faf377fd0ba",
     "showTitle": false,
     "tableResultSettingsMap": {},
     "title": ""
    }
   },
   "outputs": [
    {
     "output_type": "display_data",
     "data": {
      "text/html": [
       "<style scoped>\n",
       "  .table-result-container {\n",
       "    max-height: 300px;\n",
       "    overflow: auto;\n",
       "  }\n",
       "  table, th, td {\n",
       "    border: 1px solid black;\n",
       "    border-collapse: collapse;\n",
       "  }\n",
       "  th, td {\n",
       "    padding: 5px;\n",
       "  }\n",
       "  th {\n",
       "    text-align: left;\n",
       "  }\n",
       "</style><div class='table-result-container'><table class='table-result'><thead style='background-color: white'><tr><th>month</th><th>total_sales_price</th></tr></thead><tbody><tr><td>5</td><td>66471</td></tr></tbody></table></div>"
      ]
     },
     "metadata": {
      "application/vnd.databricks.v1+output": {
       "addedWidgets": {},
       "aggData": [],
       "aggError": "",
       "aggOverflow": false,
       "aggSchema": [],
       "aggSeriesLimitReached": false,
       "aggType": "",
       "arguments": {},
       "columnCustomDisplayInfos": {},
       "data": [
        [
         5,
         66471
        ]
       ],
       "datasetInfos": [],
       "dbfsResultPath": null,
       "isJsonSchema": true,
       "metadata": {},
       "overflow": false,
       "plotOptions": {
        "customPlotOptions": {},
        "displayType": "table",
        "pivotAggregation": null,
        "pivotColumns": null,
        "xColumns": null,
        "yColumns": null
       },
       "removedWidgets": [],
       "schema": [
        {
         "metadata": "{}",
         "name": "month",
         "type": "\"integer\""
        },
        {
         "metadata": "{}",
         "name": "total_sales_price",
         "type": "\"long\""
        }
       ],
       "type": "table"
      }
     },
     "output_type": "display_data"
    },
    {
     "output_type": "display_data",
     "data": {
      "text/html": [
       "<style scoped>\n",
       "  .table-result-container {\n",
       "    max-height: 300px;\n",
       "    overflow: auto;\n",
       "  }\n",
       "  table, th, td {\n",
       "    border: 1px solid black;\n",
       "    border-collapse: collapse;\n",
       "  }\n",
       "  th, td {\n",
       "    padding: 5px;\n",
       "  }\n",
       "  th {\n",
       "    text-align: left;\n",
       "  }\n",
       "</style><div class='table-result-container'><table class='table-result'><thead style='background-color: white'><tr><th>month</th><th>total_sales_price</th></tr></thead><tbody><tr><td>5</td><td>66471</td></tr></tbody></table></div>"
      ]
     },
     "metadata": {
      "application/vnd.databricks.v1+output": {
       "addedWidgets": {},
       "aggData": [],
       "aggError": "",
       "aggOverflow": false,
       "aggSchema": [],
       "aggSeriesLimitReached": false,
       "aggType": "",
       "arguments": {},
       "columnCustomDisplayInfos": {},
       "data": [
        [
         5,
         66471
        ]
       ],
       "datasetInfos": [],
       "dbfsResultPath": null,
       "isJsonSchema": true,
       "metadata": {},
       "overflow": false,
       "plotOptions": {
        "customPlotOptions": {},
        "displayType": "table",
        "pivotAggregation": null,
        "pivotColumns": null,
        "xColumns": null,
        "yColumns": null
       },
       "removedWidgets": [],
       "schema": [
        {
         "metadata": "{}",
         "name": "month",
         "type": "\"integer\""
        },
        {
         "metadata": "{}",
         "name": "total_sales_price",
         "type": "\"long\""
        }
       ],
       "type": "table"
      }
     },
     "output_type": "display_data"
    }
   ],
   "source": [
    "#Get total sales per month.\n",
    "\n",
    "sales_per_month_query = \"\"\"SELECT EXTRACT(MONTH FROM dateTime) as month, sum(totalPrice) as total_sales_price\n",
    "FROM silver_sales_transactions\n",
    "GROUP BY month \n",
    "ORDER BY total_sales_price DESC\n",
    "\"\"\"\n",
    "\n",
    "display(spark.sql(sales_per_month_query))\n",
    "\n",
    "golddf_sales_per_month_query = spark.sql(sales_per_month_query)\n",
    "\n",
    "golddf_sales_per_month_query.write.mode(\"overwrite\").saveAsTable(\"gold_sales_per_month_query\")\n",
    "\n",
    "display(spark.sql(\"select * from gold_sales_per_month_query\"))\n",
    "\n"
   ]
  },
  {
   "cell_type": "code",
   "execution_count": 0,
   "metadata": {
    "application/vnd.databricks.v1+cell": {
     "cellMetadata": {
      "byteLimit": 2048000,
      "implicitDf": true,
      "rowLimit": 10000
     },
     "inputWidgets": {},
     "nuid": "39ef4548-7d13-486a-b552-a1ab6c789f58",
     "showTitle": false,
     "tableResultSettingsMap": {},
     "title": ""
    }
   },
   "outputs": [
    {
     "output_type": "display_data",
     "data": {
      "text/html": [
       "<style scoped>\n",
       "  .table-result-container {\n",
       "    max-height: 300px;\n",
       "    overflow: auto;\n",
       "  }\n",
       "  table, th, td {\n",
       "    border: 1px solid black;\n",
       "    border-collapse: collapse;\n",
       "  }\n",
       "  th, td {\n",
       "    padding: 5px;\n",
       "  }\n",
       "  th {\n",
       "    text-align: left;\n",
       "  }\n",
       "</style><div class='table-result-container'><table class='table-result'><thead style='background-color: white'><tr><th>database</th><th>tableName</th><th>isTemporary</th></tr></thead><tbody><tr><td>default</td><td>bronze_media_customer_reviews</td><td>false</td></tr><tr><td>default</td><td>bronze_media_gold_reviews_chunked</td><td>false</td></tr><tr><td>default</td><td>bronze_sales_customers</td><td>false</td></tr><tr><td>default</td><td>bronze_sales_franchises</td><td>false</td></tr><tr><td>default</td><td>bronze_sales_suppliers</td><td>false</td></tr><tr><td>default</td><td>bronze_sales_transactions</td><td>false</td></tr><tr><td>default</td><td>gold_most_sold_products</td><td>false</td></tr><tr><td>default</td><td>gold_sales_per_month_query</td><td>false</td></tr><tr><td>default</td><td>gold_suppliers_ingredients_most_franchises</td><td>false</td></tr><tr><td>default</td><td>silver_bronze_media_customer_reviews</td><td>false</td></tr><tr><td>default</td><td>silver_media_gold_reviews_chunked</td><td>false</td></tr><tr><td>default</td><td>silver_sales_customers</td><td>false</td></tr><tr><td>default</td><td>silver_sales_franchises</td><td>false</td></tr><tr><td>default</td><td>silver_sales_suppliers</td><td>false</td></tr><tr><td>default</td><td>silver_sales_transactions</td><td>false</td></tr><tr><td></td><td>_sqldf</td><td>true</td></tr></tbody></table></div>"
      ]
     },
     "metadata": {
      "application/vnd.databricks.v1+output": {
       "addedWidgets": {},
       "aggData": [],
       "aggError": "",
       "aggOverflow": false,
       "aggSchema": [],
       "aggSeriesLimitReached": false,
       "aggType": "",
       "arguments": {},
       "columnCustomDisplayInfos": {},
       "data": [
        [
         "default",
         "bronze_media_customer_reviews",
         false
        ],
        [
         "default",
         "bronze_media_gold_reviews_chunked",
         false
        ],
        [
         "default",
         "bronze_sales_customers",
         false
        ],
        [
         "default",
         "bronze_sales_franchises",
         false
        ],
        [
         "default",
         "bronze_sales_suppliers",
         false
        ],
        [
         "default",
         "bronze_sales_transactions",
         false
        ],
        [
         "default",
         "gold_most_sold_products",
         false
        ],
        [
         "default",
         "gold_sales_per_month_query",
         false
        ],
        [
         "default",
         "gold_suppliers_ingredients_most_franchises",
         false
        ],
        [
         "default",
         "silver_bronze_media_customer_reviews",
         false
        ],
        [
         "default",
         "silver_media_gold_reviews_chunked",
         false
        ],
        [
         "default",
         "silver_sales_customers",
         false
        ],
        [
         "default",
         "silver_sales_franchises",
         false
        ],
        [
         "default",
         "silver_sales_suppliers",
         false
        ],
        [
         "default",
         "silver_sales_transactions",
         false
        ],
        [
         "",
         "_sqldf",
         true
        ]
       ],
       "datasetInfos": [],
       "dbfsResultPath": null,
       "isJsonSchema": true,
       "metadata": {
        "createTempViewForImplicitDf": true,
        "dataframeName": "_sqldf",
        "executionCount": 63
       },
       "overflow": false,
       "plotOptions": {
        "customPlotOptions": {},
        "displayType": "table",
        "pivotAggregation": null,
        "pivotColumns": null,
        "xColumns": null,
        "yColumns": null
       },
       "removedWidgets": [],
       "schema": [
        {
         "metadata": "{}",
         "name": "database",
         "type": "\"string\""
        },
        {
         "metadata": "{}",
         "name": "tableName",
         "type": "\"string\""
        },
        {
         "metadata": "{}",
         "name": "isTemporary",
         "type": "\"boolean\""
        }
       ],
       "type": "table"
      }
     },
     "output_type": "display_data"
    }
   ],
   "source": [
    "%sql\n",
    "\n",
    "show tables"
   ]
  },
  {
   "cell_type": "code",
   "execution_count": 0,
   "metadata": {
    "application/vnd.databricks.v1+cell": {
     "cellMetadata": {
      "byteLimit": 2048000,
      "rowLimit": 10000
     },
     "inputWidgets": {},
     "nuid": "6a302daa-e5a4-427c-9b18-7bf285af8c71",
     "showTitle": false,
     "tableResultSettingsMap": {},
     "title": ""
    }
   },
   "outputs": [
    {
     "output_type": "display_data",
     "data": {
      "text/html": [
       "<style scoped>\n",
       "  .table-result-container {\n",
       "    max-height: 300px;\n",
       "    overflow: auto;\n",
       "  }\n",
       "  table, th, td {\n",
       "    border: 1px solid black;\n",
       "    border-collapse: collapse;\n",
       "  }\n",
       "  th, td {\n",
       "    padding: 5px;\n",
       "  }\n",
       "  th {\n",
       "    text-align: left;\n",
       "  }\n",
       "</style><div class='table-result-container'><table class='table-result'><thead style='background-color: white'><tr><th>path</th><th>name</th><th>size</th><th>modificationTime</th></tr></thead><tbody><tr><td>dbfs:/FileStore/Bakehouse_Dataset.zip</td><td>Bakehouse_Dataset.zip</td><td>153373</td><td>1748502614000</td></tr><tr><td>dbfs:/FileStore/media_customer_reviews.parquet</td><td>media_customer_reviews.parquet</td><td>46004</td><td>1748502682000</td></tr><tr><td>dbfs:/FileStore/media_gold_reviews_chunked.parquet</td><td>media_gold_reviews_chunked.parquet</td><td>23557</td><td>1748502681000</td></tr><tr><td>dbfs:/FileStore/sales_customers.parquet</td><td>sales_customers.parquet</td><td>28493</td><td>1748502682000</td></tr><tr><td>dbfs:/FileStore/sales_franchises.parquet</td><td>sales_franchises.parquet</td><td>5905</td><td>1748502682000</td></tr><tr><td>dbfs:/FileStore/sales_suppliers.parquet</td><td>sales_suppliers.parquet</td><td>4591</td><td>1748502682000</td></tr><tr><td>dbfs:/FileStore/sales_transactions.parquet</td><td>sales_transactions.parquet</td><td>86578</td><td>1748502683000</td></tr><tr><td>dbfs:/FileStore/tables/</td><td>tables/</td><td>0</td><td>0</td></tr></tbody></table></div>"
      ]
     },
     "metadata": {
      "application/vnd.databricks.v1+output": {
       "addedWidgets": {},
       "aggData": [],
       "aggError": "",
       "aggOverflow": false,
       "aggSchema": [],
       "aggSeriesLimitReached": false,
       "aggType": "",
       "arguments": {},
       "columnCustomDisplayInfos": {},
       "data": [
        [
         "dbfs:/FileStore/Bakehouse_Dataset.zip",
         "Bakehouse_Dataset.zip",
         153373,
         1748502614000
        ],
        [
         "dbfs:/FileStore/media_customer_reviews.parquet",
         "media_customer_reviews.parquet",
         46004,
         1748502682000
        ],
        [
         "dbfs:/FileStore/media_gold_reviews_chunked.parquet",
         "media_gold_reviews_chunked.parquet",
         23557,
         1748502681000
        ],
        [
         "dbfs:/FileStore/sales_customers.parquet",
         "sales_customers.parquet",
         28493,
         1748502682000
        ],
        [
         "dbfs:/FileStore/sales_franchises.parquet",
         "sales_franchises.parquet",
         5905,
         1748502682000
        ],
        [
         "dbfs:/FileStore/sales_suppliers.parquet",
         "sales_suppliers.parquet",
         4591,
         1748502682000
        ],
        [
         "dbfs:/FileStore/sales_transactions.parquet",
         "sales_transactions.parquet",
         86578,
         1748502683000
        ],
        [
         "dbfs:/FileStore/tables/",
         "tables/",
         0,
         0
        ]
       ],
       "datasetInfos": [],
       "dbfsResultPath": null,
       "isJsonSchema": true,
       "metadata": {
        "isDbfsCommandResult": false
       },
       "overflow": false,
       "plotOptions": {
        "customPlotOptions": {},
        "displayType": "table",
        "pivotAggregation": null,
        "pivotColumns": null,
        "xColumns": null,
        "yColumns": null
       },
       "removedWidgets": [],
       "schema": [
        {
         "metadata": "{}",
         "name": "path",
         "type": "\"string\""
        },
        {
         "metadata": "{}",
         "name": "name",
         "type": "\"string\""
        },
        {
         "metadata": "{}",
         "name": "size",
         "type": "\"long\""
        },
        {
         "metadata": "{}",
         "name": "modificationTime",
         "type": "\"long\""
        }
       ],
       "type": "table"
      }
     },
     "output_type": "display_data"
    }
   ],
   "source": [
    "%fs ls dbfs:/FileStore/"
   ]
  }
 ],
 "metadata": {
  "application/vnd.databricks.v1+notebook": {
   "computePreferences": null,
   "dashboards": [],
   "environmentMetadata": {
    "base_environment": "",
    "environment_version": "1"
   },
   "inputWidgetPreferences": null,
   "language": "python",
   "notebookMetadata": {
    "mostRecentlyExecutedCommandWithImplicitDF": {
     "commandId": 1364836063979671,
     "dataframes": [
      "_sqldf"
     ]
    },
    "pythonIndentUnit": 4
   },
   "notebookName": "BakeHouse Handson",
   "widgets": {}
  }
 },
 "nbformat": 4,
 "nbformat_minor": 0
}